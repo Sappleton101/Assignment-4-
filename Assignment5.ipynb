{
 "cells": [
  {
   "cell_type": "code",
   "execution_count": 3,
   "id": "98aee42c",
   "metadata": {},
   "outputs": [
    {
     "name": "stdout",
     "output_type": "stream",
     "text": [
      "This is an empty list , e_diction = {}\n"
     ]
    }
   ],
   "source": [
    "# What does an empty dictionary's code look like?\n",
    "print(\"This is an empty list , e_diction = {}\")\n"
   ]
  },
  {
   "cell_type": "code",
   "execution_count": 6,
   "id": "e5010755",
   "metadata": {},
   "outputs": [
    {
     "name": "stdout",
     "output_type": "stream",
     "text": [
      "dict_values([42])\n"
     ]
    }
   ],
   "source": [
    "# What is the value of a dictionary value with the key 'foo' and the value 42?\n",
    "\"The value of that dictionary is 42\" \n",
    "\n",
    "dic = {'foo': 42}\n",
    "print(dic.values())"
   ]
  },
  {
   "cell_type": "code",
   "execution_count": 10,
   "id": "0ee71adc",
   "metadata": {},
   "outputs": [
    {
     "data": {
      "text/plain": [
       "' A dictionary has key value pairs while a list does not , in a dictionary no two keys can be the same while a list can be a combination of more than one object type '"
      ]
     },
     "execution_count": 10,
     "metadata": {},
     "output_type": "execute_result"
    }
   ],
   "source": [
    "# What is the most significant distinction between a dictionary and a list?\n",
    "\" A dictionary has key value pairs while a list does not , in a dictionary no two keys can be the same while a list can be a combination of more than one object type \""
   ]
  },
  {
   "cell_type": "code",
   "execution_count": 7,
   "id": "91b0806c",
   "metadata": {},
   "outputs": [
    {
     "ename": "KeyError",
     "evalue": "'foo'",
     "output_type": "error",
     "traceback": [
      "\u001b[1;31m---------------------------------------------------------------------------\u001b[0m",
      "\u001b[1;31mKeyError\u001b[0m                                  Traceback (most recent call last)",
      "\u001b[1;32m<ipython-input-7-cb157bde1a08>\u001b[0m in \u001b[0;36m<module>\u001b[1;34m\u001b[0m\n\u001b[0;32m      1\u001b[0m \u001b[1;31m# What happens if you try to access spam['foo'] if spam is {'bar': 100}?\u001b[0m\u001b[1;33m\u001b[0m\u001b[1;33m\u001b[0m\u001b[1;33m\u001b[0m\u001b[0m\n\u001b[0;32m      2\u001b[0m \u001b[0mspam\u001b[0m \u001b[1;33m=\u001b[0m \u001b[1;33m{\u001b[0m\u001b[1;34m'bar'\u001b[0m\u001b[1;33m:\u001b[0m\u001b[1;36m100\u001b[0m\u001b[1;33m}\u001b[0m\u001b[1;33m\u001b[0m\u001b[1;33m\u001b[0m\u001b[0m\n\u001b[1;32m----> 3\u001b[1;33m \u001b[0mprint\u001b[0m\u001b[1;33m(\u001b[0m\u001b[0mspam\u001b[0m\u001b[1;33m[\u001b[0m\u001b[1;34m'foo'\u001b[0m\u001b[1;33m]\u001b[0m\u001b[1;33m)\u001b[0m\u001b[1;33m\u001b[0m\u001b[1;33m\u001b[0m\u001b[0m\n\u001b[0m",
      "\u001b[1;31mKeyError\u001b[0m: 'foo'"
     ]
    }
   ],
   "source": [
    "# What happens if you try to access spam['foo'] if spam is {'bar': 100}?\n",
    "'Foo is not a key in the dictionary therefore it will give a key error '\n",
    "spam = {'bar':100}\n",
    "print(spam['foo'])"
   ]
  },
  {
   "cell_type": "code",
   "execution_count": 9,
   "id": "c394b687",
   "metadata": {},
   "outputs": [
    {
     "data": {
      "text/plain": [
       "\"cat in spam.keys() means that cat is a key and 'cat in spam means that cat is a value\""
      ]
     },
     "execution_count": 9,
     "metadata": {},
     "output_type": "execute_result"
    }
   ],
   "source": [
    "# If a dictionary is stored in spam, what is the difference between the expressions 'cat' in spam and 'cat' in spam.keys()?\n",
    "\"cat in spam.keys() means that cat is a key and 'cat in spam means that cat is a value\""
   ]
  },
  {
   "cell_type": "code",
   "execution_count": 8,
   "id": "94c374fe",
   "metadata": {},
   "outputs": [
    {
     "data": {
      "text/plain": [
       "'This means that cat in pam is a key and cat in spam.values() is in the value rather than the key '"
      ]
     },
     "execution_count": 8,
     "metadata": {},
     "output_type": "execute_result"
    }
   ],
   "source": [
    "# If a dictionary is stored in spam, what is the difference between the expressions 'cat' in spam and 'cat' in spam.values()?\n",
    "\"This means that cat in pam is a key and cat in spam.values() is in the value rather than the key \""
   ]
  },
  {
   "cell_type": "code",
   "execution_count": 60,
   "id": "2b30b66f",
   "metadata": {},
   "outputs": [
    {
     "name": "stdout",
     "output_type": "stream",
     "text": [
      "{'Red': 'red', 'Purple': 'purple', 'Green': 'green', 'color': 'blacks'}\n"
     ]
    }
   ],
   "source": [
    "# What is a shortcut for the following code?\n",
    "\n",
    "if 'color' not in spam:\n",
    "    spam['color'] = 'black'\n",
    "\n",
    "'Firstly I created a new list then went ahead and insert new element in it because a dictionary cant have two keys with the same name '\n",
    "\n",
    "spam = {'Red': 'red' , 'Purple' : 'purple' , 'Green':'green'}\n",
    "spam['color'] = 'black'\n",
    "print(spam)\n",
    "\n",
    "\n",
    "\n",
    "    "
   ]
  },
  {
   "cell_type": "code",
   "execution_count": 69,
   "id": "fe2fd139",
   "metadata": {},
   "outputs": [
    {
     "name": "stdout",
     "output_type": "stream",
     "text": [
      "This is the original dictionary {'Name': 'Onesha', 'Age': 45, 'Country': 'New Zealand'}\n",
      "This is the pretty print dictionary None\n",
      "{'Age': 45, 'Country': 'New Zealand', 'Name': 'Onesha'}\n"
     ]
    }
   ],
   "source": [
    "# How do you \"pretty print\" dictionary values using which module and function?\n",
    "# first import the pprint module \n",
    "\n",
    "import pprint \n",
    "\n",
    "\"\"\" Pretty Print From the PPrint module \"\"\"\n",
    "dic = {'Name' : 'Onesha' , 'Age': 45 , 'Country' : 'New Zealand'}\n",
    "print(\"This is the original dictionary\" , dic )\n",
    "\n",
    "\n",
    "print(\"This is the pretty print dictionary\")\n",
    "pprint_dic = pprint.pprint(dic)"
   ]
  }
 ],
 "metadata": {
  "kernelspec": {
   "display_name": "Python 3",
   "language": "python",
   "name": "python3"
  },
  "language_info": {
   "codemirror_mode": {
    "name": "ipython",
    "version": 3
   },
   "file_extension": ".py",
   "mimetype": "text/x-python",
   "name": "python",
   "nbconvert_exporter": "python",
   "pygments_lexer": "ipython3",
   "version": "3.8.8"
  }
 },
 "nbformat": 4,
 "nbformat_minor": 5
}
