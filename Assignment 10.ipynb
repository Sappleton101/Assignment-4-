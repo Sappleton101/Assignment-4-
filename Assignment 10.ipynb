{
 "cells": [
  {
   "cell_type": "markdown",
   "metadata": {},
   "source": [
    "### Assignment Number 10 \n"
   ]
  },
  {
   "cell_type": "markdown",
   "metadata": {},
   "source": [
    "##### How do you distinguish between shutil.copy() and shutil.copytree()?\n",
    "*The shutil.copy() will copy a single file while the shutil.copytree() will copy an entire folder and every filder and file contained in it.*"
   ]
  },
  {
   "cell_type": "markdown",
   "metadata": {},
   "source": [
    "##### What function is used to rename files?\n",
    "*shutil.move()*\n"
   ]
  },
  {
   "cell_type": "markdown",
   "metadata": {},
   "source": [
    "##### What is the difference between the delete functions in the send2trash and shutil modules?\n",
    "*The send2trash function will move a file or folder to the recycle bin , while shutil functions will permanently delete files and folders*"
   ]
  },
  {
   "cell_type": "markdown",
   "metadata": {},
   "source": [
    "##### ZipFile objects have a close() method just like File objects’ close() method. What ZipFile method is equivalent to File objects’ open() method?\n",
    "*The zipfile.ZipFile() function is equivalent to the open() function , the first argument is the filename and the second arguement is the mode to open the Zip file in (read , write or append)*"
   ]
  },
  {
   "cell_type": "markdown",
   "metadata": {},
   "source": [
    "##### Create a programme that searches a folder tree for files with a certain file extension (such as .pdf or .jpg). Copy these files from whatever location they are in to a new folder.\n"
   ]
  },
  {
   "cell_type": "code",
   "execution_count": 48,
   "metadata": {},
   "outputs": [
    {
     "name": "stdout",
     "output_type": "stream",
     "text": [
      "nothing.txt\n",
      "Files copied Sucessfully\n",
      "Files not copies sucessfully\n"
     ]
    }
   ],
   "source": [
    "import os , shutil\n",
    "\n",
    "def search_directory(): \n",
    "    #dir = os.chdir(r'C:\\Users\\os605342\\OneDrive - Digicel Caribbean Ltd\\Desktop\\Fx\\Loan Details')\n",
    "    src = \"C:\\\\Users\\\\os605342\\\\OneDrive - Digicel Caribbean Ltd/Desktop\\\\Fx\\\\Loan Details\" # source directory link \n",
    "    dest = \"C:\\\\Users\\\\os605342\\\\OneDrive - Digicel Caribbean Ltd\\\\Desktop\\\\Fx\\\\Loan Details\\\\New Things\" # destination directory link \n",
    "    for file in os.listdir(src):\n",
    "        if file.endswith('txt'):\n",
    "            print(file)\n",
    "            shutil.copy(file , dest) \n",
    "            print(\"Files copied Sucessfully\")\n",
    "    print(\"Files not copies sucessfully\")\n",
    "search_directory()"
   ]
  }
 ],
 "metadata": {
  "interpreter": {
   "hash": "24bf4e1c6a3d941db214caa31e7411feee1bf79552dc040405ddbc59fe171a13"
  },
  "kernelspec": {
   "display_name": "Python 3.9.6 64-bit",
   "language": "python",
   "name": "python3"
  },
  "language_info": {
   "codemirror_mode": {
    "name": "ipython",
    "version": 3
   },
   "file_extension": ".py",
   "mimetype": "text/x-python",
   "name": "python",
   "nbconvert_exporter": "python",
   "pygments_lexer": "ipython3",
   "version": "3.9.6"
  },
  "orig_nbformat": 4
 },
 "nbformat": 4,
 "nbformat_minor": 2
}
