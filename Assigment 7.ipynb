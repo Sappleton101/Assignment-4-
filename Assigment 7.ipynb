{
 "cells": [
  {
   "cell_type": "markdown",
   "metadata": {},
   "source": [
    "##### What is the name of the feature responsible for generating Regex objects ?\n",
    "*The re.complie() function returns regular expression objects.*\n"
   ]
  },
  {
   "cell_type": "markdown",
   "metadata": {},
   "source": [
    "##### Why do raw strings often appear in Regex objects?\n",
    "*Raw strings are used so that backslashes do not have to be escaped.* "
   ]
  },
  {
   "cell_type": "markdown",
   "metadata": {},
   "source": [
    "##### What is the return value of the search() method ?\n",
    "*The search method is used to return the matching string.*"
   ]
  },
  {
   "cell_type": "markdown",
   "metadata": {},
   "source": [
    "##### From a match item, how do you get the actual strings that match the pattern ? \n",
    "*To get the actual string that match the pattern you would use a regular expression pattern as to match that pattern thus using the \"search()\" function .*"
   ]
  },
  {
   "cell_type": "markdown",
   "metadata": {},
   "source": [
    "##### In the regex which created from the r'(\\d\\d\\d)-(\\d\\d\\d-\\d\\d\\d\\d)', what does group zero cover? Group 2? Group 1?\n",
    "*The group zero shows the entire match  , group two is the first three digits of your phone number while group 2 is the the last digits of your phone number.*"
   ]
  },
  {
   "cell_type": "markdown",
   "metadata": {},
   "source": [
    " ##### In standard expression syntax, parentheses and intervals have distinct meanings. How can you tell a regex that you want it to fit real parentheses and periods?\n",
    " *You could use the \"\\\" which will escape the character fr example \"\\.\" ,\"\\(\", \"\\)\"*"
   ]
  },
  {
   "cell_type": "markdown",
   "metadata": {},
   "source": [
    "##### The findall() method returns a list of strings or a list of tuples of strings. What makes it return one or the other?\n",
    "*Whenever findall is used then the result is returned in a tuples , however whenever find all is used and the pattern is group withing two paranthese then it returns a list of tuple*"
   ]
  },
  {
   "cell_type": "markdown",
   "metadata": {},
   "source": [
    "##### In standard expressions, what does the | character mean?\n",
    "*This expression is used as either or between two groups in regular expression.*"
   ]
  },
  {
   "cell_type": "markdown",
   "metadata": {},
   "source": [
    "##### In regular expressions, what does the character stand for?\n",
    "*A character set is an explicit list of the characters that may qualify for a match in a search. A character set is indicated by enclosing a set of characters in brackets ([ and ]).*"
   ]
  },
  {
   "cell_type": "markdown",
   "metadata": {},
   "source": [
    "##### In regular expressions, what is the difference between the + and * characters?\n",
    "*The + matches one or more and the * match zero or more.*"
   ]
  },
  {
   "cell_type": "markdown",
   "metadata": {},
   "source": [
    "##### What is the difference between {4} and {4,5} in regular expression?\n",
    "*The {4} means that it will return whenever there is a group of 4 ocuurences while the {4,5} means it will return 4 to 5 instances.*"
   ]
  },
  {
   "cell_type": "markdown",
   "metadata": {},
   "source": [
    "##### What do you mean by the \\d, \\w, and \\s shorthand character classes signify in regular expressions?\n",
    "*The \\d means that it will match with a digit from 0-9 while the \\w means that it will match with a word contained with any character while the \\s means that it will return a match where the string contains a white space character.*"
   ]
  },
  {
   "cell_type": "markdown",
   "metadata": {},
   "source": [
    "##### What do means by \\D, \\W, and \\S shorthand character classes signify in regular expressions?\n",
    "*The \\D means that it will be matched with string that does not contain any digits , return a string match where the string does not contain any word character while the \\S means that the string will retunr a character that does not contain any white space character.* "
   ]
  },
  {
   "cell_type": "markdown",
   "metadata": {},
   "source": [
    "##### What is the difference between .*? and .*?\n",
    "*Guarantees that the quantified dot only matches as many characters as needed for the rest of the pattern to succeed while the second one matches with the minimum number of character.*"
   ]
  },
  {
   "cell_type": "markdown",
   "metadata": {},
   "source": [
    "##### What is the syntax for matching both numbers and lowercase letters with a character class?\n",
    "\n",
    "*This is the syntax match for lower case and numbers [a-z0-9]*"
   ]
  },
  {
   "cell_type": "markdown",
   "metadata": {},
   "source": [
    "##### What is the procedure for making a normal expression in regax case insensitive?\n",
    "*Pass the function with the .IGNORECASE from the re library (re.IGNORECASE)*"
   ]
  },
  {
   "cell_type": "markdown",
   "metadata": {},
   "source": [
    "##### What does the . character normally match? What does it match if re.DOTALL is passed as 2nd argument in re.compile()?  \n",
    "*It matches anything in the the input even if it is in a newline*\n"
   ]
  },
  {
   "cell_type": "markdown",
   "metadata": {},
   "source": [
    "#####  If numReg = re.compile(r'\\d+'), what will numRegex.sub('X', '11 drummers, 10 pipers, five rings, 4 hen') return?\n",
    "*So the '\\d+' will get the digit in the input while the sub means that it will replace all occurence of digits with the input X*\n"
   ]
  },
  {
   "cell_type": "code",
   "execution_count": 3,
   "metadata": {},
   "outputs": [
    {
     "data": {
      "text/plain": [
       "'X drummers, X pipers, five rings, X hen'"
      ]
     },
     "execution_count": 3,
     "metadata": {},
     "output_type": "execute_result"
    }
   ],
   "source": [
    "import re \n",
    "numReg = re.compile(r'\\d+')\n",
    "numReg.sub('X', '11 drummers, 10 pipers, five rings, 4 hen')"
   ]
  },
  {
   "cell_type": "markdown",
   "metadata": {},
   "source": [
    "##### What does passing re.VERBOSE as the 2nd argument to re.compile() allow to do?\n",
    "*The re.VERBOSE separate the logic section of the pattern and allows you to add  whitespace and comments in the re.complie() function to evade confusion.*"
   ]
  },
  {
   "cell_type": "markdown",
   "metadata": {},
   "source": [
    "#####  How would you write a regex that match a number with comma for every three digits? It must match the given following:\n"
   ]
  },
  {
   "cell_type": "code",
   "execution_count": null,
   "metadata": {},
   "outputs": [],
   "source": [
    "\"\"\"\n",
    "'42'\n",
    "'1,234'\n",
    "'6,368,745'\n",
    "# but not the following:\n",
    "'12,34,567' (which has only two digits between the commas)\n",
    "'1234' (which lacks commas) \"\"\"\n",
    "\n",
    "re.compile(r'^\\d{1,3}(,\\d{3})*$')"
   ]
  },
  {
   "cell_type": "markdown",
   "metadata": {},
   "source": [
    "*How would you write a regex that matches the full name of someone whose last name is Watanabe? You can assume that the first name that comes before it will always be one word that* \n",
    "*begins with a capital letter. The regex must match the following:*\n",
    "\n",
    "string = 'Haruto Watanabe'\n",
    "'Alice Watanabe'\n",
    "'RoboCop Watanabe'\n",
    "but not the following:\n",
    "'haruto Watanabe' (where the first name is not capitalized)\n",
    "'Mr. Watanabe' (where the preceding word has a nonletter character)\n",
    "'Watanabe' (which has no first name)\n",
    "'Haruto watanabe' (where Watanabe is not capitalized)]\n",
    "\n",
    "###### Please find below the matching pattern\n",
    "\n",
    "pattern = re.compile(r'[A-Za-z]*\\sWatanabe')\n",
    "re.findall(pattern , string)"
   ]
  },
  {
   "cell_type": "markdown",
   "metadata": {},
   "source": [
    "*How would you write a regex that matches a sentence where the first word is either Alice, Bob, or Carol; the second word is either eats, pets, or throws; the third word is apples, cats, or baseballs; and the sentence ends with a period? This regex should be case-insensitive. It must match the following:*\n",
    "\n",
    "'Alice eats apples.'\n",
    "'Bob pets cats.'\n",
    "'Carol throws baseballs.'\n",
    "'Alice throws Apples.'\n",
    "'BOB EATS CATS.'\n",
    "but not the following:\n",
    "'RoboCop eats apples.'\n",
    "'ALICE THROWS FOOTBALLS.'\n",
    "'Carol eats 7 cats.' \n",
    "\"\"\"\n",
    "\n",
    "*re.compile(r'(Alice|Bob|Carol)\\s(eats|pets|throws)\\s(apples|cats|baseballs)\\.', re.IGNORECASE)*"
   ]
  }
 ],
 "metadata": {
  "interpreter": {
   "hash": "24bf4e1c6a3d941db214caa31e7411feee1bf79552dc040405ddbc59fe171a13"
  },
  "kernelspec": {
   "display_name": "Python 3.9.6 64-bit",
   "language": "python",
   "name": "python3"
  },
  "language_info": {
   "codemirror_mode": {
    "name": "ipython",
    "version": 3
   },
   "file_extension": ".py",
   "mimetype": "text/x-python",
   "name": "python",
   "nbconvert_exporter": "python",
   "pygments_lexer": "ipython3",
   "version": "3.9.6"
  },
  "orig_nbformat": 4
 },
 "nbformat": 4,
 "nbformat_minor": 2
}
