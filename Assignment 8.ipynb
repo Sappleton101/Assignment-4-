{
 "cells": [
  {
   "cell_type": "markdown",
   "metadata": {},
   "source": [
    "##### Is the Python Standard Library included with PyInputPlus?\n",
    "*Yes it is included in the python standard library*"
   ]
  },
  {
   "cell_type": "markdown",
   "metadata": {},
   "source": [
    "##### Why is PyInputPlus commonly imported with import pyinputplus as pypi?\n",
    "*This is becuase PyInputPlus is a module in the pyinputplus and instead of continuously using the long name it is imported as pypi*"
   ]
  },
  {
   "cell_type": "markdown",
   "metadata": {},
   "source": [
    "##### How do you distinguish between inputInt() and inputFloat()?\n",
    "*The inputInt takes only integer meaning numbers without decimal while the inputFloat() takes number with a decimal*"
   ]
  },
  {
   "cell_type": "markdown",
   "metadata": {},
   "source": [
    "##### Using PyInputPlus, how do you ensure that the user enters a whole number between 0 and 99?\n",
    "*Please see the syntax below*"
   ]
  },
  {
   "cell_type": "code",
   "execution_count": 1,
   "metadata": {},
   "outputs": [
    {
     "data": {
      "text/plain": [
       "' \\nimport pyinputplus as pyip\\nwhole_num = pyip.inputInt(\"Enter a whole number: \" , min = 0 , max = 99)\\nprint(whole_num)\\n\\n'"
      ]
     },
     "execution_count": 1,
     "metadata": {},
     "output_type": "execute_result"
    }
   ],
   "source": [
    "\"\"\" \n",
    "import pyinputplus as pyip\n",
    "whole_num = pyip.inputInt(\"Enter a whole number: \" , min = 0 , max = 99)\n",
    "print(whole_num)\n",
    "\"\"\"\n"
   ]
  },
  {
   "cell_type": "markdown",
   "metadata": {},
   "source": [
    "##### What is transferred to the keyword arguments allowRegexes and blockRegexes?\n",
    "*The allowRegexes is just a keyword argument that specifies when an input is allowed while the blockRegexes tells when an incident is not allowed*\n"
   ]
  },
  {
   "cell_type": "markdown",
   "metadata": {},
   "source": [
    "##### If a blank input is entered three times, what does inputStr(limit=3) do?\n",
    "*This will take three blanks then it will throw an error.*"
   ]
  },
  {
   "cell_type": "markdown",
   "metadata": {},
   "source": [
    "##### If blank input is entered three times, what does inputStr(limit=3, default='hello') do?\n",
    "*Whenever they take three blanks as input then hello is printed*"
   ]
  }
 ],
 "metadata": {
  "interpreter": {
   "hash": "24bf4e1c6a3d941db214caa31e7411feee1bf79552dc040405ddbc59fe171a13"
  },
  "kernelspec": {
   "display_name": "Python 3.9.6 64-bit",
   "language": "python",
   "name": "python3"
  },
  "language_info": {
   "codemirror_mode": {
    "name": "ipython",
    "version": 3
   },
   "file_extension": ".py",
   "mimetype": "text/x-python",
   "name": "python",
   "nbconvert_exporter": "python",
   "pygments_lexer": "ipython3",
   "version": "3.9.6"
  },
  "orig_nbformat": 4
 },
 "nbformat": 4,
 "nbformat_minor": 2
}
