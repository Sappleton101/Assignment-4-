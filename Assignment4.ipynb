{
 "cells": [
  {
   "cell_type": "code",
   "execution_count": 22,
   "id": "1ceae6aa",
   "metadata": {},
   "outputs": [
    {
     "data": {
      "text/plain": [
       "'This is the symbol for a list '"
      ]
     },
     "execution_count": 22,
     "metadata": {},
     "output_type": "execute_result"
    }
   ],
   "source": [
    "# What exactly is []?\n",
    "'This is the symbol for a list '"
   ]
  },
  {
   "cell_type": "code",
   "execution_count": 1,
   "id": "1ed0530c",
   "metadata": {},
   "outputs": [
    {
     "name": "stdout",
     "output_type": "stream",
     "text": [
      "[2, 4, 'Hello', 8, 10]\n"
     ]
    }
   ],
   "source": [
    "# In a list of values stored in a variable called spam, how would you assign the value 'hello' as the third value? (Assume [2, 4, 6, 8, 10] are in spam.)\n",
    "\n",
    "spam = [2 ,4 ,6 ,8 ,10]  \n",
    "spam[2]= \"Hello\"\n",
    "print(spam)"
   ]
  },
  {
   "cell_type": "code",
   "execution_count": 23,
   "id": "3f807b8c",
   "metadata": {},
   "outputs": [],
   "source": [
    "# Let's pretend the spam includes the list ['a', 'b', 'c', 'd'] for the next three queries.\n",
    "\n",
    "spam = ['a', 'b', 'c', 'd']"
   ]
  },
  {
   "cell_type": "code",
   "execution_count": 3,
   "id": "b9b3ed07",
   "metadata": {},
   "outputs": [
    {
     "name": "stdout",
     "output_type": "stream",
     "text": [
      "d\n"
     ]
    }
   ],
   "source": [
    "# What is the value of spam[int(int('3' * 2) / 11)]?\n",
    "\n",
    "print(spam[int(int('3' * 2 )/11)])"
   ]
  },
  {
   "cell_type": "code",
   "execution_count": 4,
   "id": "472e475b",
   "metadata": {},
   "outputs": [
    {
     "name": "stdout",
     "output_type": "stream",
     "text": [
      "d\n"
     ]
    }
   ],
   "source": [
    "# What is the value of spam[-1]?\n",
    "print(spam[-1])"
   ]
  },
  {
   "cell_type": "code",
   "execution_count": 6,
   "id": "b30673bd",
   "metadata": {},
   "outputs": [
    {
     "name": "stdout",
     "output_type": "stream",
     "text": [
      "['a', 'b']\n"
     ]
    }
   ],
   "source": [
    "# What is the value of spam[:2]?\n",
    "print(spam[:2])"
   ]
  },
  {
   "cell_type": "code",
   "execution_count": null,
   "id": "0155f16d",
   "metadata": {},
   "outputs": [],
   "source": [
    "# Let's pretend bacon has the list [3.14, 'cat,' 11, 'cat,' True] for the next three questions."
   ]
  },
  {
   "cell_type": "code",
   "execution_count": 24,
   "id": "d5470020",
   "metadata": {},
   "outputs": [],
   "source": [
    "# Firstly let us create the list \n",
    "bacon = [3.24, 'cat' , 11 , 'cat' , True]"
   ]
  },
  {
   "cell_type": "code",
   "execution_count": 25,
   "id": "e9b76a93",
   "metadata": {},
   "outputs": [
    {
     "name": "stdout",
     "output_type": "stream",
     "text": [
      "1\n"
     ]
    }
   ],
   "source": [
    "# What is the value of bacon.index('cat')?\n",
    "print(bacon.index('cat'))"
   ]
  },
  {
   "cell_type": "code",
   "execution_count": 15,
   "id": "691973b9",
   "metadata": {},
   "outputs": [
    {
     "data": {
      "text/plain": [
       "'Bacon.append(99) would put 99 at the back of the list right to the right of True in the list'"
      ]
     },
     "execution_count": 15,
     "metadata": {},
     "output_type": "execute_result"
    }
   ],
   "source": [
    "# How does bacon.append(99) change the look of the list value in bacon?\n",
    "'Bacon.append(99) would put 99 at the back of the list right to the right of True in the list'"
   ]
  },
  {
   "cell_type": "code",
   "execution_count": 16,
   "id": "ad8a4842",
   "metadata": {},
   "outputs": [
    {
     "data": {
      "text/plain": [
       "'Yes , this will remove the cat entirely from the list also deleting that space in memory that cat was once'"
      ]
     },
     "execution_count": 16,
     "metadata": {},
     "output_type": "execute_result"
    }
   ],
   "source": [
    "# How does bacon.remove('cat') change the look of the list in bacon?\n",
    "\n",
    "'Yes , this will remove the cat entirely from the list also deleting that space in memory that cat was once'\n"
   ]
  },
  {
   "cell_type": "code",
   "execution_count": 20,
   "id": "d4d95bd4",
   "metadata": {},
   "outputs": [
    {
     "name": "stdout",
     "output_type": "stream",
     "text": [
      "This is the list concatenator operator  [1, 2, 3, 5, 1, 3, 5, 2]\n",
      "This is the list replicator operator [1, 2, 3, 5, 1, 2, 3, 5]\n"
     ]
    }
   ],
   "source": [
    "# What are the list concatenation and list replication operators?\n",
    "\"The list concatenation operator is the plus sign '+' while the '*' is the replication operator\"\n",
    "\n",
    "print(\"This is the list concatenator operator \" ,[1 ,2,3 ,5] + [1,3,5,2])\n",
    "print( \"This is the list replicator operator\"   , [1,2,3,5] * 2)"
   ]
  },
  {
   "cell_type": "code",
   "execution_count": 21,
   "id": "b8834dbe",
   "metadata": {},
   "outputs": [
    {
     "data": {
      "text/plain": [
       "'The append method puts the element at the back of the list while the insert takes a position and the list'"
      ]
     },
     "execution_count": 21,
     "metadata": {},
     "output_type": "execute_result"
    }
   ],
   "source": [
    "# What is difference between the list methods append() and insert()?\n",
    "\"The append method puts the element at the back of the list while the insert takes a position and the list\""
   ]
  },
  {
   "cell_type": "code",
   "execution_count": 39,
   "id": "1f63707c",
   "metadata": {},
   "outputs": [
    {
     "data": {
      "text/plain": [
       "'One is the list.remove method and one is the list.pop method '"
      ]
     },
     "execution_count": 39,
     "metadata": {},
     "output_type": "execute_result"
    }
   ],
   "source": [
    "# What are the two methods for removing items from a list?\n",
    "\"One is the list.remove method and one is the list.pop method \"\n"
   ]
  },
  {
   "cell_type": "code",
   "execution_count": 44,
   "id": "ccc28d02",
   "metadata": {},
   "outputs": [
    {
     "data": {
      "text/plain": [
       "'List are similar to string in a sense that they are ordered collection of characters and some operators can be performed on both such as slicing  '"
      ]
     },
     "execution_count": 44,
     "metadata": {},
     "output_type": "execute_result"
    }
   ],
   "source": [
    "# Describe how list values and string values are identical.\n",
    "\"List are similar to string in a sense that they are ordered collection of characters and some operators can be performed on both such as slicing  \""
   ]
  },
  {
   "cell_type": "code",
   "execution_count": 45,
   "id": "0d022c1c",
   "metadata": {},
   "outputs": [
    {
     "data": {
      "text/plain": [
       "'Tuples are enclosed in round brackets while a list is in square brackets [] , List are mutables and tuples are immutable'"
      ]
     },
     "execution_count": 45,
     "metadata": {},
     "output_type": "execute_result"
    }
   ],
   "source": [
    "# What's the difference between tuples and lists?\n",
    "\"Tuples are enclosed in round brackets while a list is in square brackets [] , List are mutables and tuples are immutable\""
   ]
  },
  {
   "cell_type": "code",
   "execution_count": 32,
   "id": "a9d05827",
   "metadata": {},
   "outputs": [
    {
     "name": "stdout",
     "output_type": "stream",
     "text": [
      "<class 'tuple'>\n"
     ]
    }
   ],
   "source": [
    "# How do you type a tuple value that only contains the integer 42?\n",
    "\n",
    "my_tuple = (42 , )  \n",
    "print(type(my_tuple))"
   ]
  },
  {
   "cell_type": "code",
   "execution_count": 38,
   "id": "812f03bb",
   "metadata": {},
   "outputs": [
    {
     "name": "stdout",
     "output_type": "stream",
     "text": [
      "This is the type  <class 'tuple'>\n",
      "This is the new tuple (1, 2, 3, 4, 5)\n",
      "This is the type  <class 'list'>\n",
      "This is the new list [1, 2, 3, 4, 5]\n"
     ]
    }
   ],
   "source": [
    "# How do you get a list value's tuple form? How do you get a tuple value's list form?\n",
    "\n",
    "lst = [1,2,3,4,5]\n",
    "\n",
    "new_tuple = tuple(lst)\n",
    "print(\"This is the type \", type(new_tuple))\n",
    "print(\"This is the new tuple\", new_tuple)\n",
    "\n",
    "new_list = (list(new_tuple))\n",
    "print(\"This is the type \"   ,type(new_list))\n",
    "print('This is the new list' , new_list)\n"
   ]
  },
  {
   "cell_type": "code",
   "execution_count": 43,
   "id": "538caba2",
   "metadata": {},
   "outputs": [
    {
     "data": {
      "text/plain": [
       "'They contain objects '"
      ]
     },
     "execution_count": 43,
     "metadata": {},
     "output_type": "execute_result"
    }
   ],
   "source": [
    "# Variables that \"contain\" list values are not necessarily lists themselves. Instead, what do they contain?\n",
    "\"They contain objects \""
   ]
  },
  {
   "cell_type": "code",
   "execution_count": 41,
   "id": "c772b477",
   "metadata": {},
   "outputs": [
    {
     "data": {
      "text/plain": [
       "'creates a new object and then recursively insert copies into it of he objects found in the original'"
      ]
     },
     "execution_count": 41,
     "metadata": {},
     "output_type": "execute_result"
    }
   ],
   "source": [
    "# How do you distinguish between copy.copy() and copy.deepcopy()?\n",
    "\"copy.copy() creates a new object and insert into that object by making a reference to the object found in the original\""
   ]
  },
  {
   "cell_type": "code",
   "execution_count": 42,
   "id": "6203738a",
   "metadata": {},
   "outputs": [
    {
     "data": {
      "text/plain": [
       "'copy.deepcopy() actually creates a new object then recursively insert copies into it so in other words it creates a new object not a referenced object'"
      ]
     },
     "execution_count": 42,
     "metadata": {},
     "output_type": "execute_result"
    }
   ],
   "source": [
    "\"copy.deepcopy() actually creates a new object then recursively insert copies into it so in other words it creates a new object not a referenced object\""
   ]
  }
 ],
 "metadata": {
  "kernelspec": {
   "display_name": "Python 3",
   "language": "python",
   "name": "python3"
  },
  "language_info": {
   "codemirror_mode": {
    "name": "ipython",
    "version": 3
   },
   "file_extension": ".py",
   "mimetype": "text/x-python",
   "name": "python",
   "nbconvert_exporter": "python",
   "pygments_lexer": "ipython3",
   "version": "3.8.8"
  }
 },
 "nbformat": 4,
 "nbformat_minor": 5
}
