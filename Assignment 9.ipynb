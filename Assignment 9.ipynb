{
 "cells": [
  {
   "cell_type": "markdown",
   "metadata": {},
   "source": [
    "##### To what does a relative path refer?\n",
    "*This is a path that is relative to the current directory.*"
   ]
  },
  {
   "cell_type": "markdown",
   "metadata": {},
   "source": [
    "##### What does an absolute path start with your operating system?\n",
    "*An absolue path begins with the drive letter such as (D):*"
   ]
  },
  {
   "cell_type": "markdown",
   "metadata": {},
   "source": [
    "##### What do the functions os.getcwd() and os.chdir() do?\n",
    "*The os.getwd() gets the current workng directory and the os.chdir change the current directory*"
   ]
  },
  {
   "cell_type": "markdown",
   "metadata": {},
   "source": [
    "##### What are the . and .. folders?\n",
    "*The '.' is the current directory while the '..' is the parent directory which is using for moving hieracrhy*"
   ]
  },
  {
   "cell_type": "markdown",
   "metadata": {},
   "source": [
    "##### In C:\\bacon\\eggs\\spam.txt, which part is the dir name, and which part is the base name?\n",
    "*the bacon is the directory name while the eggs is the base name.*\n",
    " "
   ]
  },
  {
   "cell_type": "markdown",
   "metadata": {},
   "source": [
    "##### What are the three “mode” arguments that can be passed to the open() function?\n",
    "*The mode can be read (r), written (w) and append (a)*"
   ]
  },
  {
   "cell_type": "markdown",
   "metadata": {},
   "source": [
    "##### What happens if an existing file is opened in write mode? \n",
    "*If an existing file is opened in write mode then it exists already thus the content of it will discarded and  the files will be treated as a new empty file.*"
   ]
  },
  {
   "cell_type": "markdown",
   "metadata": {},
   "source": [
    "##### How do you tell the difference between read() and readlines()?\n",
    "*The read() method returns the file's entire contents as a single string value. The readlines() method returns a list of strings, where each string is a line from the file's contents.*"
   ]
  },
  {
   "cell_type": "markdown",
   "metadata": {},
   "source": [
    "#####  What data structure does a shelf value resemble?"
   ]
  }
 ],
 "metadata": {
  "language_info": {
   "name": "python"
  },
  "orig_nbformat": 4
 },
 "nbformat": 4,
 "nbformat_minor": 2
}
